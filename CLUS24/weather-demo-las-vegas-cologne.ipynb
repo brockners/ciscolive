{
 "cells": [
  {
   "cell_type": "markdown",
   "id": "202aa145",
   "metadata": {},
   "source": [
    "# Function Calling Demo: Current Weather\n",
    "\n",
    "Evolved version of the OpenAI function calling example found at https://platform.openai.com/docs/guides/function-calling\n",
    "\n",
    "### Setup\n",
    "Load the API keys and relevant Python libaries. Create an OpenAI client."
   ]
  },
  {
   "cell_type": "code",
   "execution_count": 1,
   "id": "ea9983dc",
   "metadata": {},
   "outputs": [],
   "source": [
    "from geopy.geocoders import Nominatim\n",
    "import requests, json, dotenv\n",
    "from openai import OpenAI\n",
    "\n",
    "openweather_api_key = (dotenv.dotenv_values()).get(\"OPENWEATHERMAP_API_KEY\")\n",
    "openai_api_key = (dotenv.dotenv_values()).get(\"OPENAI_API_KEY\")\n",
    "\n",
    "client = OpenAI(api_key=openai_api_key)\n",
    "base_url = \"https://api.openweathermap.org/data/2.5/weather?\"\n",
    "question = \"What's the weather like in San Francisco, Tokyo, Paris, and Cologne in Germany?\""
   ]
  },
  {
   "cell_type": "markdown",
   "id": "016b06f8",
   "metadata": {},
   "source": [
    "### Function to fetch the current weather for a given location\n",
    "\n",
    "Geolocation information is retrieved using GeoPy: https://github.com/geopy/geopy\n",
    "Weather information is retrieved via https://openweathermap.org/. Use of the API requires a subscription. A free tier is available."
   ]
  },
  {
   "cell_type": "code",
   "execution_count": 2,
   "id": "24beace3",
   "metadata": {},
   "outputs": [],
   "source": [
    "def get_current_weather(location):\n",
    "    loc = Nominatim(user_agent=\"Get Location\")\n",
    "    getLoc = loc.geocode(location)\n",
    "    locname = getLoc.address\n",
    "    complete_url = base_url + \"lat=\" + str(getLoc.latitude) + \"&lon=\" + str(getLoc.longitude) + \"&appid=\" + openweather_api_key\n",
    "    response = requests.get(complete_url)\n",
    "    result = response.json()\n",
    "    if result[\"cod\"] != \"404\":\n",
    "        current_temperature = result[\"main\"][\"temp\"] - 273.15\n",
    "        weather_description = result[\"weather\"][0][\"description\"]\n",
    "        return json.dumps({\"location\": locname, \"temperature\": str(current_temperature) + \" °C\", \"weather\": weather_description})\n",
    "    else:\n",
    "        return json.dumps({\"location\": location, \"weather\": \"unknown\"})"
   ]
  },
  {
   "cell_type": "code",
   "execution_count": 3,
   "id": "3f48291a",
   "metadata": {},
   "outputs": [
    {
     "name": "stdout",
     "output_type": "stream",
     "text": [
      "{\"location\": \"K\\u00f6ln, Nordrhein-Westfalen, Deutschland\", \"temperature\": \"18.879999999999995 \\u00b0C\", \"weather\": \"broken clouds\"}\n"
     ]
    }
   ],
   "source": [
    "print(get_current_weather(\"Cologne, Germany\"))"
   ]
  },
  {
   "cell_type": "markdown",
   "id": "86c735bb",
   "metadata": {},
   "source": [
    "### Interact with GPT model to get weather information for specified locations"
   ]
  },
  {
   "cell_type": "code",
   "execution_count": 4,
   "id": "40cc6882",
   "metadata": {},
   "outputs": [],
   "source": [
    "def run_conversation():\n",
    "    messages = [{\"role\": \"user\", \"content\": question}]\n",
    "    tools = [\n",
    "        {\n",
    "            \"type\": \"function\",\n",
    "            \"function\": {\n",
    "                \"name\": \"get_current_weather\",\n",
    "                \"description\": \"Get the current weather in a given location\",\n",
    "                \"parameters\": {\n",
    "                    \"type\": \"object\",\n",
    "                    \"properties\": {\n",
    "                        \"location\": {\n",
    "                            \"type\": \"string\",\n",
    "                            \"description\": \"The city and state, e.g. San Francisco, CA\",\n",
    "                        },\n",
    "                    },\n",
    "                    \"required\": [\"location\"],\n",
    "                },\n",
    "            },\n",
    "        }\n",
    "    ]\n",
    "    response = client.chat.completions.create(\n",
    "        model=\"gpt-3.5-turbo-1106\",\n",
    "        messages=messages,\n",
    "        tools=tools,\n",
    "        tool_choice=\"auto\",\n",
    "    )\n",
    "    response_message = response.choices[0].message\n",
    "    tool_calls = response_message.tool_calls\n",
    "    if tool_calls:\n",
    "        available_functions = {\n",
    "            \"get_current_weather\": get_current_weather,\n",
    "        }\n",
    "        messages.append(response_message)\n",
    "        for tool_call in tool_calls:\n",
    "            function_name = tool_call.function.name\n",
    "            function_to_call = available_functions[function_name]\n",
    "            function_args = json.loads(tool_call.function.arguments)\n",
    "            print(f\"Function name: {function_name}, arguments: {function_args}\")\n",
    "            function_response = function_to_call(\n",
    "                location=function_args.get(\"location\"),\n",
    "            )\n",
    "            messages.append(\n",
    "                {\n",
    "                    \"tool_call_id\": tool_call.id,\n",
    "                    \"role\": \"tool\",\n",
    "                    \"name\": function_name,\n",
    "                    \"content\": function_response,\n",
    "                }\n",
    "            )\n",
    "        second_response = client.chat.completions.create(\n",
    "            model=\"gpt-3.5-turbo-1106\",\n",
    "            messages=messages,\n",
    "        )\n",
    "        print(f\"----------------------------------------\\n\\n\")\n",
    "        return second_response"
   ]
  },
  {
   "cell_type": "markdown",
   "id": "79a2aff1",
   "metadata": {},
   "source": [
    "### Let's try it out..."
   ]
  },
  {
   "cell_type": "code",
   "execution_count": 5,
   "id": "9de05588",
   "metadata": {},
   "outputs": [
    {
     "name": "stdout",
     "output_type": "stream",
     "text": [
      "Function name: get_current_weather, arguments: {'location': 'Las Vegas'}\n",
      "Function name: get_current_weather, arguments: {'location': 'Tokyo'}\n",
      "Function name: get_current_weather, arguments: {'location': 'Paris'}\n",
      "Function name: get_current_weather, arguments: {'location': 'Cologne, Germany'}\n",
      "----------------------------------------\n",
      "\n",
      "\n",
      "The current weather in Las Vegas is clear sky with a temperature of 23.1°C. In Tokyo, the weather is few clouds with a temperature of 20.6°C. Paris has broken clouds with a temperature of 15.9°C. Cologne in Germany also has broken clouds with a temperature of 18.9°C.\n"
     ]
    }
   ],
   "source": [
    "question = \"What's the weather like in Las Vegas, Tokyo, Paris, and Cologne in Germany?\"\n",
    "answer=run_conversation()\n",
    "print(answer.choices[0].message.content)"
   ]
  },
  {
   "cell_type": "code",
   "execution_count": 6,
   "id": "16c6072b",
   "metadata": {},
   "outputs": [
    {
     "name": "stdout",
     "output_type": "stream",
     "text": [
      "Function name: get_current_weather, arguments: {'location': 'Cologne, Germany'}\n",
      "----------------------------------------\n",
      "\n",
      "\n",
      "The sun is currently not shining in Cologne, Germany. The weather is cloudy with broken clouds and the temperature is around 18.9°C.\n"
     ]
    }
   ],
   "source": [
    "question = \"Is the sun currently shining in Cologne, Germany?\"\n",
    "answer=run_conversation()\n",
    "print(answer.choices[0].message.content)"
   ]
  },
  {
   "cell_type": "code",
   "execution_count": 7,
   "id": "7420a77c",
   "metadata": {},
   "outputs": [
    {
     "name": "stdout",
     "output_type": "stream",
     "text": [
      "Function name: get_current_weather, arguments: {'location': 'Germany'}\n",
      "----------------------------------------\n",
      "\n",
      "\n",
      "Currently, the weather in Germany is overcast with a temperature of approximately 20.56°C. Therefore, the sun might not be shining at the moment.\n"
     ]
    }
   ],
   "source": [
    "question = \"Does the sun shine in Germany currently?\"\n",
    "answer=run_conversation()\n",
    "print(answer.choices[0].message.content)"
   ]
  },
  {
   "cell_type": "code",
   "execution_count": 8,
   "id": "f6787875",
   "metadata": {
    "scrolled": true
   },
   "outputs": [
    {
     "name": "stdout",
     "output_type": "stream",
     "text": [
      "{\"location\": \"Deutschland\", \"temperature\": \"20.560000000000002 \\u00b0C\", \"weather\": \"overcast clouds\"}\n"
     ]
    }
   ],
   "source": [
    "print(get_current_weather(\"Germany\"))"
   ]
  },
  {
   "cell_type": "code",
   "execution_count": 9,
   "id": "e08bc7cb",
   "metadata": {},
   "outputs": [
    {
     "name": "stdout",
     "output_type": "stream",
     "text": [
      "Function name: get_current_weather, arguments: {'location': 'Las Vegas, NV'}\n",
      "----------------------------------------\n",
      "\n",
      "\n",
      "Yes, the sun is currently shining in Las Vegas. The weather is clear.\n"
     ]
    }
   ],
   "source": [
    "question = \"Does the sun shine in Las Vegas currently?\"\n",
    "answer=run_conversation()\n",
    "print(answer.choices[0].message.content)"
   ]
  },
  {
   "cell_type": "code",
   "execution_count": null,
   "id": "f46a1b8e",
   "metadata": {},
   "outputs": [],
   "source": []
  }
 ],
 "metadata": {
  "kernelspec": {
   "display_name": "Python 3 (ipykernel)",
   "language": "python",
   "name": "python3"
  },
  "language_info": {
   "codemirror_mode": {
    "name": "ipython",
    "version": 3
   },
   "file_extension": ".py",
   "mimetype": "text/x-python",
   "name": "python",
   "nbconvert_exporter": "python",
   "pygments_lexer": "ipython3",
   "version": "3.11.4"
  }
 },
 "nbformat": 4,
 "nbformat_minor": 5
}
