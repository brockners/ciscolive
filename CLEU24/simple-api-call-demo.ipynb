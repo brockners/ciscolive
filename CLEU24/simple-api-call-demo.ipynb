{
 "cells": [
  {
   "cell_type": "markdown",
   "id": "202aa145",
   "metadata": {},
   "source": [
    "# Simple API Call\n",
    "\n",
    "\n",
    "### Setup\n",
    "Load the API keys and relevant Python libaries. Create an OpenAI client."
   ]
  },
  {
   "cell_type": "code",
   "execution_count": 1,
   "id": "ea9983dc",
   "metadata": {},
   "outputs": [],
   "source": [
    "import json, dotenv\n",
    "from openai import OpenAI\n",
    "\n",
    "openai_api_key = (dotenv.dotenv_values()).get(\"OPENAI_API_KEY\")\n",
    "client = OpenAI(api_key=openai_api_key)\n"
   ]
  },
  {
   "cell_type": "markdown",
   "id": "016b06f8",
   "metadata": {},
   "source": [
    "### Create the prompt\n",
    "\n",
    "Let's assume you are running [AI Driven Telemetry](https://www.cisco.com/c/en/us/td/docs/routers/asr9000/software/asr9k-r7-3/telemetry/configuration/guide/b-telemetry-cg-asr9000-73x/AI-driven-telemetry.html) (ADT). ADT detected a change in the router's state and provided a list of sensor paths which ADT sees as descriptive for the change.\n",
    "\n",
    "Let's ask GPT-4 to create a diagnosis from the list of sensor paths provided.\n"
   ]
  },
  {
   "cell_type": "code",
   "execution_count": 2,
   "id": "8f9d6205",
   "metadata": {},
   "outputs": [],
   "source": [
    "sensor_paths = f\"\"\"\\\n",
    "Cisco-IOS-XR-ip-bfd-oper:bfd_counters_packet-counters_packet-counter.csv:bfd-mgmt-pkt-display-type-none:HundredGigE0/0/0/16:0/0/CPU0:hello-receive-count\n",
    "Cisco-IOS-XR-ip-bfd-oper:bfd_session-briefs_session-brief.csv:172.31.14.48:HundredGigE0/0/0/16:0/0/CPU0:0/0/CPU0:ip-single-hop:status-brief-information__async-interval-multiplier__negotiated-local-transmit-interval\n",
    "Cisco-IOS-XR-ip-bfd-oper:bfd_session-briefs_session-brief.csv:172.31.14.48:HundredGigE0/0/0/16:0/0/CPU0:0/0/CPU0:ip-single-hop:status-brief-information__async-interval-multiplier__negotiated-remote-transmit-interval\n",
    "Cisco-IOS-XR-ip-bfd-oper:bfd_summary.csv:::session-state__down-count\n",
    "Cisco-IOS-XR-ip-bfd-oper:bfd_summary.csv:::session-state__up-count\n",
    "\"\"\"\n",
    "\n",
    "system_prompt = f\"\"\"\\\n",
    "You are a networking expert.\n",
    "You are diagnosing a network issue based on telemetry information received from a Cisco router running IOS-XR.\n",
    "\"\"\"\n",
    "\n",
    "user_prompt = f\"\"\"\\\n",
    "Below, in the \"List of sensor paths\" section you find a list of YANG sensor path counters which \\\n",
    "have changed the most while the issue occurred. \n",
    "The sensor path counters are descriptive of the issue.\n",
    "\n",
    "Perform the following two steps one after the other:\n",
    "\n",
    "1. First, explain what is the issue with this router in less than 100 words. Be technical and specific.\n",
    "   Tag your explanation with the word ISSUE.\n",
    "\n",
    "2. What do you suggest as next steps to fix the issue?\n",
    "   Tag your suggestion with the word  RESOLUTION.\n",
    "\n",
    "Format the output at JSON compliant to RFC 8259. Do not return anything in your response outside of curly braces.\n",
    "\n",
    "### List of sensor paths\n",
    "{sensor_paths}\n",
    "\"\"\""
   ]
  },
  {
   "cell_type": "markdown",
   "id": "26442bfa",
   "metadata": {},
   "source": [
    "### Call GPT"
   ]
  },
  {
   "cell_type": "code",
   "execution_count": 3,
   "id": "24beace3",
   "metadata": {},
   "outputs": [
    {
     "name": "stdout",
     "output_type": "stream",
     "text": [
      "ChatCompletionMessage(content='{\\n\"ISSUE\": \"Based on the sensor path counters, it appears the router is experiencing Bidirectional Forwarding Detection (BFD) session instability on interface HundredGigE0/0/0/16 with the remote IP 172.31.14.48. The BFD session is frequently transitioning between up and down states, indicated by the changes in \\'session-state__down-count\\' and \\'session-state__up-count\\', and changes in the \\'hello-receive-count\\'. Also, the changing \\'negotiated-local-transmit-interval\\' and \\'negotiated-remote-transmit-interval\\' suggest unstable round-trip times.\",\\n\"RESOLUTION\": \"To resolve this, check if there are network congestion or latency issues affecting BFD packet transmission. Validate the BFD configurations and reconfigure if necessary with higher timers. If issues still persist, isolate if it’s a physical layer problem on interface HundredGigE0/0/0/16 by running interface diagnostics tests and checking for any physical layer errors.\"\\n}', role='assistant', function_call=None, tool_calls=None)\n"
     ]
    }
   ],
   "source": [
    "completion = client.chat.completions.create(\n",
    "    model=\"gpt-4\",\n",
    "    messages=[\n",
    "        {\"role\": \"system\", \"content\": system_prompt},\n",
    "        {\"role\": \"user\", \"content\": user_prompt}\n",
    "    ]\n",
    ")\n",
    "\n",
    "print(completion.choices[0].message)"
   ]
  },
  {
   "cell_type": "markdown",
   "id": "610e67f2",
   "metadata": {},
   "source": [
    "### Output the result in pretty format"
   ]
  },
  {
   "cell_type": "code",
   "execution_count": 4,
   "id": "3b143862",
   "metadata": {},
   "outputs": [],
   "source": [
    "result = json.loads(completion.choices[0].message.content)"
   ]
  },
  {
   "cell_type": "code",
   "execution_count": 5,
   "id": "6c9f9ac1",
   "metadata": {},
   "outputs": [
    {
     "name": "stdout",
     "output_type": "stream",
     "text": [
      "ISSUE : \n",
      " Based on the sensor path counters, it appears the router is experiencing Bidirectional Forwarding Detection (BFD) session instability on interface HundredGigE0/0/0/16 with the remote IP 172.31.14.48. The BFD session is frequently transitioning between up and down states, indicated by the changes in 'session-state__down-count' and 'session-state__up-count', and changes in the 'hello-receive-count'. Also, the changing 'negotiated-local-transmit-interval' and 'negotiated-remote-transmit-interval' suggest unstable round-trip times. \n",
      "\n",
      "RESOLUTION : \n",
      " To resolve this, check if there are network congestion or latency issues affecting BFD packet transmission. Validate the BFD configurations and reconfigure if necessary with higher timers. If issues still persist, isolate if it’s a physical layer problem on interface HundredGigE0/0/0/16 by running interface diagnostics tests and checking for any physical layer errors. \n",
      "\n"
     ]
    }
   ],
   "source": [
    "for key in result:\n",
    "    print(key, \": \\n\", result[key], \"\\n\")"
   ]
  },
  {
   "cell_type": "code",
   "execution_count": null,
   "id": "6e0ec1d6",
   "metadata": {},
   "outputs": [],
   "source": []
  }
 ],
 "metadata": {
  "kernelspec": {
   "display_name": "Python 3 (ipykernel)",
   "language": "python",
   "name": "python3"
  },
  "language_info": {
   "codemirror_mode": {
    "name": "ipython",
    "version": 3
   },
   "file_extension": ".py",
   "mimetype": "text/x-python",
   "name": "python",
   "nbconvert_exporter": "python",
   "pygments_lexer": "ipython3",
   "version": "3.11.5"
  }
 },
 "nbformat": 4,
 "nbformat_minor": 5
}
