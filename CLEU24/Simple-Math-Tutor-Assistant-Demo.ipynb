{
 "cells": [
  {
   "cell_type": "markdown",
   "id": "fe326068",
   "metadata": {},
   "source": [
    "# AI Assistant Demo: Simple Math Tutor\n",
    "\n",
    "Slightly evolved version of the math tutor example of OpenAI, see\n",
    "https://platform.openai.com/docs/assistants/overview\n",
    "\n",
    "Note that the assistant API is still in beta. Make sure that your kernel includes the most recent version of OpenAI: ``pip install --upgrade openai``\n",
    "\n",
    "### Setup\n",
    "Load the API keys and relevant Python libaries. Create an OpenAI client."
   ]
  },
  {
   "cell_type": "code",
   "execution_count": 1,
   "id": "b130f87f",
   "metadata": {},
   "outputs": [],
   "source": [
    "import os, time\n",
    "import requests, json, dotenv\n",
    "from openai import OpenAI\n",
    "\n",
    "# Import API key from .env file\n",
    "openai_api_key = (dotenv.dotenv_values()).get(\"OPENAI_API_KEY\")\n",
    "my_assistant_id = (dotenv.dotenv_values()).get(\"MATH_ASSISTANT_ID\")\n",
    "my_assistant_name = (dotenv.dotenv_values()).get(\"MATH_ASSISTANT_NAME\")\n",
    "\n",
    "client = OpenAI(api_key=openai_api_key)"
   ]
  },
  {
   "cell_type": "markdown",
   "id": "2d5f09c2",
   "metadata": {},
   "source": [
    "### Look for existing assistant by id and name. If it does not exist, create one."
   ]
  },
  {
   "cell_type": "code",
   "execution_count": 2,
   "id": "059caeec",
   "metadata": {},
   "outputs": [
    {
     "name": "stdout",
     "output_type": "stream",
     "text": [
      "\n",
      "------------------------------------------------------------ \n",
      "\n",
      "Assistant ID used: None \n",
      "\n",
      "New assistant created. Assistant object: Assistant(id='asst_qIaXznHYdLbezzhfikwD4tji', created_at=1705589224, description=None, file_ids=[], instructions='You are a personal math tutor. \\nWhen asked a question, write and run Python code to answer the question.', metadata={}, model='gpt-4-1106-preview', name='Math Tutor', object='assistant', tools=[ToolCodeInterpreter(type='code_interpreter')]) \n",
      "\n"
     ]
    }
   ],
   "source": [
    "instructions_content = \"\"\"You are a personal math tutor. \n",
    "When asked a question, write and run Python code to answer the question.\"\"\"\n",
    "\n",
    "assistant_ids = {}\n",
    "for i, assistant in enumerate(client.beta.assistants.list()):\n",
    "    assistant_ids[i] = assistant.id\n",
    "    print(f\"Assistant object {i}: '{assistant.id}' {assistant.name}\")\n",
    "    if assistant.id == my_assistant_id:\n",
    "        print(f\"Found assistant by id: {my_assistant_id}\")\n",
    "        break\n",
    "    elif assistant.name == my_assistant_name:\n",
    "        my_assistant_id = assistant.id\n",
    "        print(f\"Found assistant by name: {my_assistant_id}\")\n",
    "        break\n",
    "\n",
    "print(\"\\n------------------------------------------------------------ \\n\")\n",
    "print(f\"Assistant ID used: {my_assistant_id} \\n\")\n",
    "\n",
    "if my_assistant_id is None:\n",
    "    my_assistant = client.beta.assistants.create(\n",
    "        model=\"gpt-4-1106-preview\",\n",
    "        instructions=instructions_content,\n",
    "        name=my_assistant_name,\n",
    "        tools=[{\"type\": \"code_interpreter\"}],\n",
    "    )\n",
    "    my_assistant_id = my_assistant.id\n",
    "    print(f\"New assistant created. Assistant object: {my_assistant} \\n\")\n"
   ]
  },
  {
   "cell_type": "markdown",
   "id": "203be736",
   "metadata": {},
   "source": [
    "### Create a Thread"
   ]
  },
  {
   "cell_type": "code",
   "execution_count": 3,
   "id": "ffbe8bd0",
   "metadata": {},
   "outputs": [
    {
     "name": "stdout",
     "output_type": "stream",
     "text": [
      "This is the thread object: Thread(id='thread_Debxv7Pn31tHlwyze5Fzpht8', created_at=1705589235, metadata={}, object='thread') \n",
      "\n"
     ]
    }
   ],
   "source": [
    "my_thread = client.beta.threads.create()\n",
    "print(f\"This is the thread object: {my_thread} \\n\")"
   ]
  },
  {
   "cell_type": "markdown",
   "id": "15315838",
   "metadata": {},
   "source": [
    "### Add a Message to a Thread"
   ]
  },
  {
   "cell_type": "code",
   "execution_count": 4,
   "id": "18bed996",
   "metadata": {},
   "outputs": [
    {
     "name": "stdout",
     "output_type": "stream",
     "text": [
      "This is the message object: ThreadMessage(id='msg_DT6K9yIGpdmxtPbN1azF72a0', assistant_id=None, content=[MessageContentText(text=Text(annotations=[], value='I need to solve the equation `3x + 11 = 14`. Can you help me?'), type='text')], created_at=1705589237, file_ids=[], metadata={}, object='thread.message', role='user', run_id=None, thread_id='thread_Debxv7Pn31tHlwyze5Fzpht8') \n",
      "\n"
     ]
    }
   ],
   "source": [
    "message_content = \"\"\"I need to solve the equation `3x + 11 = 14`. Can you help me?\"\"\"\n",
    "\n",
    "my_thread_message = client.beta.threads.messages.create(\n",
    "  thread_id=my_thread.id,\n",
    "  role=\"user\",\n",
    "  content=message_content,\n",
    ")\n",
    "print(f\"This is the message object: {my_thread_message} \\n\")"
   ]
  },
  {
   "cell_type": "markdown",
   "id": "ccd7749d",
   "metadata": {},
   "source": [
    "### Run the Assistant"
   ]
  },
  {
   "cell_type": "code",
   "execution_count": 5,
   "id": "d390f831",
   "metadata": {},
   "outputs": [
    {
     "name": "stdout",
     "output_type": "stream",
     "text": [
      "This is the run object: Run(id='run_WYLnfY2e41iBvZCo6C2qgy4y', assistant_id='asst_qIaXznHYdLbezzhfikwD4tji', cancelled_at=None, completed_at=None, created_at=1705589243, expires_at=1705589843, failed_at=None, file_ids=[], instructions='You are a personal math tutor. \\nWhen asked a question, write and run Python code to answer the question.', last_error=None, metadata={}, model='gpt-4-1106-preview', object='thread.run', required_action=None, started_at=None, status='queued', thread_id='thread_Debxv7Pn31tHlwyze5Fzpht8', tools=[ToolAssistantToolsCode(type='code_interpreter')]) \n",
      "\n"
     ]
    }
   ],
   "source": [
    "my_run = client.beta.threads.runs.create(\n",
    "  thread_id=my_thread.id,\n",
    "  assistant_id=my_assistant_id\n",
    ")\n",
    "print(f\"This is the run object: {my_run} \\n\")"
   ]
  },
  {
   "cell_type": "markdown",
   "id": "f742f322",
   "metadata": {},
   "source": [
    "### Periodically retrieve the Run to check on its status to see if it has moved to completed"
   ]
  },
  {
   "cell_type": "code",
   "execution_count": 6,
   "id": "441f442b",
   "metadata": {},
   "outputs": [
    {
     "name": "stdout",
     "output_type": "stream",
     "text": [
      ".......................\n",
      "Run status: completed\n"
     ]
    }
   ],
   "source": [
    "status = my_run.status\n",
    "while status in [\"queued\", \"in_progress\"]:\n",
    "    keep_retrieving_run = client.beta.threads.runs.retrieve(\n",
    "        thread_id=my_thread.id,\n",
    "        run_id=my_run.id\n",
    "    )\n",
    "    status=keep_retrieving_run.status\n",
    "    time.sleep(0.2)\n",
    "    print(\".\", end=\"\")\n",
    "print(f\"\\nRun status: {status}\")"
   ]
  },
  {
   "cell_type": "markdown",
   "id": "bf135a46",
   "metadata": {},
   "source": [
    "### Retrieve the Messages added by the Assistant to the Thread"
   ]
  },
  {
   "cell_type": "code",
   "execution_count": 7,
   "id": "8b483f22",
   "metadata": {},
   "outputs": [
    {
     "name": "stdout",
     "output_type": "stream",
     "text": [
      "\n",
      "------------------------------------------------------------ \n",
      "\n",
      "User: I need to solve the equation `3x + 11 = 14`. Can you help me?\n",
      "Assistant: The solution to the equation \\(3x + 11 = 14\\) is \\(x = 1\\).\n"
     ]
    }
   ],
   "source": [
    "if status == \"completed\":\n",
    "    all_messages = client.beta.threads.messages.list(\n",
    "            thread_id=my_thread.id\n",
    "    )\n",
    "    print(\"\\n------------------------------------------------------------ \\n\")\n",
    "    print(f\"User: {my_thread_message.content[0].text.value}\")\n",
    "    print(f\"Assistant: {all_messages.data[0].content[0].text.value}\")\n",
    "else:\n",
    "    print(f\"Exiting with error. Status: {status}\")"
   ]
  },
  {
   "cell_type": "markdown",
   "id": "ac827aa9",
   "metadata": {},
   "source": [
    "### Detailed Run Steps of the Assistant"
   ]
  },
  {
   "cell_type": "code",
   "execution_count": 8,
   "id": "deffa2fd",
   "metadata": {},
   "outputs": [
    {
     "name": "stdout",
     "output_type": "stream",
     "text": [
      "{\n",
      "  \"message_creation\": {\n",
      "    \"message_id\": \"msg_IJ4xeQP1JaJEWLY0n7gXIOzF\"\n",
      "  },\n",
      "  \"type\": \"message_creation\"\n",
      "}\n",
      "{\n",
      "  \"tool_calls\": [\n",
      "    {\n",
      "      \"id\": \"call_g575iEPx7ImqdhSSI905hpeZ\",\n",
      "      \"code_interpreter\": {\n",
      "        \"input\": \"from sympy import symbols, Eq, solve\\n\\n# Define the symbol\\nx = symbols('x')\\n\\n# Define the equation\\nequation = Eq(3*x + 11, 14)\\n\\n# Solve the equation\\nsolution = solve(equation, x)\\nsolution\",\n",
      "        \"outputs\": [\n",
      "          {\n",
      "            \"logs\": \"[1]\",\n",
      "            \"type\": \"logs\"\n",
      "          }\n",
      "        ]\n",
      "      },\n",
      "      \"type\": \"code_interpreter\"\n",
      "    }\n",
      "  ],\n",
      "  \"type\": \"tool_calls\"\n",
      "}\n"
     ]
    }
   ],
   "source": [
    "log = []\n",
    "run_steps = client.beta.threads.runs.steps.list(\n",
    "        thread_id=my_thread.id, run_id=my_run.id\n",
    "    )\n",
    "for i in run_steps.data:\n",
    "    log.append(\n",
    "              json.dumps(json.loads(i.step_details.model_dump_json()), indent=2)\n",
    "    )\n",
    "print(\"\\n\".join(log))"
   ]
  },
  {
   "cell_type": "code",
   "execution_count": null,
   "id": "bfb5faf2",
   "metadata": {},
   "outputs": [],
   "source": []
  }
 ],
 "metadata": {
  "kernelspec": {
   "display_name": "Python 3 (ipykernel)",
   "language": "python",
   "name": "python3"
  },
  "language_info": {
   "codemirror_mode": {
    "name": "ipython",
    "version": 3
   },
   "file_extension": ".py",
   "mimetype": "text/x-python",
   "name": "python",
   "nbconvert_exporter": "python",
   "pygments_lexer": "ipython3",
   "version": "3.11.5"
  }
 },
 "nbformat": 4,
 "nbformat_minor": 5
}
